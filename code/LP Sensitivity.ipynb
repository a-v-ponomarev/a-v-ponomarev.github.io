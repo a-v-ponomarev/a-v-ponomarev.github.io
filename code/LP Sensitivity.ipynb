{
 "cells": [
  {
   "cell_type": "markdown",
   "metadata": {
    "collapsed": true
   },
   "source": [
    "# Анализ чувствительности в задачах линейного программирования"
   ]
  },
  {
   "cell_type": "markdown",
   "metadata": {},
   "source": [
    "## Постановка задачи\n",
    "\n",
    "Фабрика производит три вида продукции: П1, П2 и П3. \n",
    "\n",
    "Известна цена на продукцию для распространителей и приблизительный спрос на каждый из видов продукции в неделю (см. Таблицу 1). \n",
    "\n",
    "Процессы производства продукции разных видов имеют отличия. На фабрике есть три цеха: Ц1, Ц2 и Ц3. Для производства продукции П1 необходимы только технологические операции, производимые цехом Ц1, для П2 – Ц1 и Ц3, для производства П3 – необходима полная технологическая цепочка, включающая обработку во всех трех цехах. \n",
    "\n",
    "В цехах Ц1 и Ц2 продукция разных видов обрабатывается одинаково, и известна общая производительность этих цехов в единицах обработанной продукции в неделю, то в цехе Ц3 предполагается ручная обработка (см. Таблицу 2). \n",
    "\n",
    "Из всех видов материалов, используемых при производстве продукции, ограниченным является только один, поставки его в неделю и потребности для каждого из видов продукции приведены в таблице 3. \n",
    "\n",
    "Необходимо составить производственный план на неделю, максимизирующий выручку от реализации продукции.\n",
    "\n",
    "Таблица 1 - Характеристики продукции\n",
    "\n",
    "| Вид продукции | Цена, руб. | Спрос, шт. в неделю |\n",
    "|---------------|------------|---------------------|\n",
    "| П1            | 1200       | 35                  |\n",
    "| П2            | 2500       | 25                  |\n",
    "| П3            | 1400       | 30                  |\n",
    "\n",
    "Таблица 2 - Производительность цехов\n",
    "\n",
    "| Ц1, шт. в неделю | Ц2, шт. в неделю | Ц3, часов (П2/П3/Общий фонд) |\n",
    "|------------------|------------------|------------------------------|\n",
    "| 40               | 20               | 8/2/80                       |\n",
    "\n",
    "Таблица 3 - Материалы\n",
    "\n",
    "| Поставки в неделю, кг | На ед. продукта  П1, кг | На ед. продукта  П2, кг | На ед. продукта  П3, кг |\n",
    "|-----------------------|-------------------------|-------------------------|-------------------------|\n",
    "| 50                    | 0,8                     | 0,6                     | 0,7                     |\n",
    "\n",
    "(для генерации таблиц в Markdown можно использовать, например: https://www.tablesgenerator.com/markdown_tables) \n",
    "\n",
    "## Формальная постановка задачи\n",
    "\n",
    "Пусть $x_i$ - количество единиц продукции i-того вида, которое необходимо произвести за неделю ($i \\in {1, 2, 3}$). \n",
    "\n",
    "Целевая функция и ограничения:\n",
    "$$\n",
    "1200x_1 + 2500x_2 + 1400x_3 \\rightarrow max \\\\\n",
    "x_1 + x_2 + x_3 \\leq 40 \\\\\n",
    "x_3 \\leq 20 \\\\\n",
    "8x_2 + 2x_3 \\leq 80 \\\\\n",
    "x_1 \\leq 35 \\\\\n",
    "x_2 \\leq 25 \\\\\n",
    "x_3 \\leq 30 \\\\\n",
    "0.8x_1 + 0.6x_2 + 0.7x_3 \\leq 50 \\\\\n",
    "x_{1,2,3} \\geq 0\n",
    "$$\n",
    "\n",
    "Табличное представление:\n",
    "\n",
    "|  * | x1   | x2   | x3   | Неравенство | b   |\n",
    "|----|------|------|------|-------------|-----|\n",
    "| с  | 1200 | 2500 | 1400 | -           | max |\n",
    "| y1 | 1    | 1    | 1    | <=          | 40  |\n",
    "| y2 | 0    | 0    | 1    | <=          | 20  |\n",
    "| y3 | 0    | 8    | 2    | <=          | 80  |\n",
    "| y4 | 1    | 0    | 0    | <=          | 35  |\n",
    "| y5 | 0    | 1    | 0    | <=          | 25  |\n",
    "| y6 | 0    | 0    | 1    | <=          | 30  |\n",
    "| y7 | 0,8  | 0,6  | 0,7  | <=          | 50  |\n",
    "\n"
   ]
  },
  {
   "cell_type": "code",
   "execution_count": 1,
   "metadata": {},
   "outputs": [],
   "source": [
    "from cvxopt import matrix, solvers\n",
    "\n",
    "c = matrix([-1200., -2500., -1400.])       # Целевая функция (минусы, потому что решаем задачу максимизации)\n",
    "G = matrix([[  1,   1,   1],                   # Коэффициенты при ограничениях-неравенствах (вида <=)  \n",
    "            [  0,   0,   1],\n",
    "            [  0,   8,   2],\n",
    "            [  1,   0,   0],\n",
    "            [  0,   1,   0],\n",
    "            [  0,   0,   1],\n",
    "            [0.8, 0.6, 0.7],\n",
    "            [ -1,   0,   0],                   # Неотрицательность переменных (x_i >= 0)\n",
    "            [  0,  -1,   0],                   # Поскольку в матрице G должны быть коэффициенты перед неравенствами вида <=\n",
    "            [  0,   0,  -1]], tc='d')          # домножаем на -1:    x_i >= 0   <==>   -x_i <= 0\n",
    "            \n",
    "h = matrix([40, 20, 80, 35, 25, 30, 50, 0, 0, 0], tc='d')   # Вектор правых частей ограничений (свободных членов)\n"
   ]
  },
  {
   "cell_type": "markdown",
   "metadata": {},
   "source": [
    "### Решение с помощью GLPK (через интерфейс Python - CVXOPT)\n",
    "\n",
    "\n",
    "![helper](https://cvxopt.org/userguide/_images/math/1a46f87937c463caee0344c11e4563de96c4cb12.png \"Подсказка по использованию CVXOPT\")\n"
   ]
  },
  {
   "cell_type": "code",
   "execution_count": 3,
   "metadata": {},
   "outputs": [
    {
     "name": "stdout",
     "output_type": "stream",
     "text": [
      "Status: optimal\n",
      "Objective: -61000.0\n",
      "x = \n",
      " [ 3.00e+01]\n",
      "[ 1.00e+01]\n",
      "[ 0.00e+00]\n",
      "\n"
     ]
    }
   ],
   "source": [
    "solution = solvers.lp(c, G.T, h, solver='glpk')\n",
    "\n",
    "print('Status:', solution['status'])\n",
    "print('Objective:', solution['primal objective'])\n",
    "print('x = \\n', solution['x'])\n"
   ]
  },
  {
   "cell_type": "code",
   "execution_count": 7,
   "metadata": {},
   "outputs": [
    {
     "name": "stdout",
     "output_type": "stream",
     "text": [
      "[ 1.20e+03]\n",
      "[-0.00e+00]\n",
      "[ 1.62e+02]\n",
      "[-0.00e+00]\n",
      "[-0.00e+00]\n",
      "[-0.00e+00]\n",
      "[-0.00e+00]\n",
      "[-0.00e+00]\n",
      "[-0.00e+00]\n",
      "[ 1.25e+02]\n",
      "\n"
     ]
    }
   ],
   "source": [
    "# Для анализа чувствительности нужны значения двойственных переменных \n",
    "# (в данном случае, только z (потому что нет ограничений-равенств), иначе еще y)\n",
    "\n",
    "# Теневые цены - это значения в векторе, соответствующие \"основным\" ограничениям задачи\n",
    "# Приведенные цены - значения, соответствующие ограничению \"неотрицательности\" переменных\n",
    "\n",
    "print(solution['z'])\n"
   ]
  },
  {
   "cell_type": "markdown",
   "metadata": {},
   "source": [
    "### Исследование теневых цен"
   ]
  },
  {
   "cell_type": "code",
   "execution_count": 42,
   "metadata": {},
   "outputs": [
    {
     "name": "stdout",
     "output_type": "stream",
     "text": [
      "Status: optimal\n",
      "Objective: 62200.0 delta: 1200.0\n",
      "[ 3.10e+01]\n",
      "[ 1.00e+01]\n",
      "[ 0.00e+00]\n",
      "\n"
     ]
    }
   ],
   "source": [
    "# Исследование интервала осуществимости\n",
    "\n",
    "dh = matrix([1, 0, 0, 0, 0, 0, 0, 0, 0, 0]);     # приращение к вектору правых частей\n",
    "\n",
    "solution1 = solvers.lp(c, G.T, h + dh, solver='glpk')\n",
    "\n",
    "print('Status:', solution1['status'])\n",
    "print('Objective:', -solution1['primal objective'], 'delta:', -solution1['primal objective']+solution['primal objective'])\n",
    "print(solution1['x'])"
   ]
  },
  {
   "cell_type": "code",
   "execution_count": 49,
   "metadata": {},
   "outputs": [
    {
     "name": "stdout",
     "output_type": "stream",
     "text": [
      "Increment 1: obj=62200.00 delta=1200.00\n",
      "Increment 2: obj=63400.00 delta=1200.00\n",
      "Increment 3: obj=64600.00 delta=1200.00\n",
      "Increment 4: obj=65800.00 delta=1200.00\n",
      "Increment 5: obj=67000.00 delta=1200.00\n",
      "Increment 6: obj=68033.33 delta=1033.33\n",
      "Basis changed at increment 6\n"
     ]
    }
   ],
   "source": [
    "prev_z = -solution['primal objective']\n",
    "a = 1\n",
    "while (True):\n",
    "    solution_i = solvers.lp(c, G.T, h + dh*a, solver='glpk')\n",
    "    if solution_i['status'] != 'optimal':\n",
    "        print('Couldn''t find a solution')\n",
    "        break\n",
    "    new_z = -solution_i['primal objective']\n",
    "    delta_z = new_z - prev_z\n",
    "    print('Increment %d: obj=%.2f delta=%.2f' % (a, new_z, delta_z))\n",
    "    if abs(delta_z - 1200) > 1e-6:\n",
    "        print('Basis changed at increment %d' % (a,))\n",
    "        break\n",
    "    prev_z = new_z\n",
    "    a = a + 1\n"
   ]
  },
  {
   "cell_type": "markdown",
   "metadata": {},
   "source": [
    "### Исследование приведенных цен"
   ]
  },
  {
   "cell_type": "code",
   "execution_count": 53,
   "metadata": {},
   "outputs": [
    {
     "name": "stdout",
     "output_type": "stream",
     "text": [
      "[-0.00e+00]\n",
      "[-0.00e+00]\n",
      "[ 1.25e+02]\n",
      "\n"
     ]
    }
   ],
   "source": [
    "# Получим приведенные цены (в данном случае, это последние три строки вектора значений двойственных переменных)\n",
    "print(solution['z'][-3::])"
   ]
  },
  {
   "cell_type": "code",
   "execution_count": 59,
   "metadata": {},
   "outputs": [
    {
     "name": "stdout",
     "output_type": "stream",
     "text": [
      "Status: optimal\n",
      "Objective: 61020.0 delta: 20.0\n",
      "[ 1.50e+01]\n",
      "[ 5.00e+00]\n",
      "[ 2.00e+01]\n",
      "\n"
     ]
    }
   ],
   "source": [
    "# \"Проверка\" приведенной цены:\n",
    "# Идея в том, чтобы увеличить цену продукции П3 на значение, \"слегка\" превышающее значение\n",
    "# приведенной цены (в данном случае, превышающее на 1 (126 против 125)).\n",
    "# Вычитаем, потому что вектор c содержит все цены со знаком минус (из-за того, что мы решаем задачу максимизации)\n",
    "solution2 = solvers.lp(c - matrix([0, 0, 126]), G.T, h, solver='glpk')\n",
    "\n",
    "print('Status:', solution2['status'])\n",
    "print('Objective:', -solution2['primal objective'], 'delta:', -solution2['primal objective']+solution['primal objective'])\n",
    "print(solution2['x'])\n"
   ]
  },
  {
   "cell_type": "code",
   "execution_count": 66,
   "metadata": {},
   "outputs": [],
   "source": [
    "import pandas as pd\n",
    "import seaborn as sb"
   ]
  },
  {
   "cell_type": "code",
   "execution_count": 80,
   "metadata": {},
   "outputs": [
    {
     "data": {
      "text/plain": [
       "<matplotlib.axes._subplots.AxesSubplot at 0xabc2908>"
      ]
     },
     "execution_count": 80,
     "metadata": {},
     "output_type": "execute_result"
    },
    {
     "data": {
      "image/png": "[encoded data removed]",
      "text/plain": [
       "<Figure size 432x288 with 1 Axes>"
      ]
     },
     "metadata": {},
     "output_type": "display_data"
    }
   ],
   "source": [
    "x = [x for x in range(35, 50)]\n",
    "y = list(map(lambda r: -solvers.lp(c, G.T, matrix([r, 20, 80, 35, 25, 30, 50, 0, 0, 0], tc='d'), \n",
    "                                   solver='glpk')['primal objective'], \n",
    "             x))\n",
    "\n",
    "sb.set_style(\"whitegrid\")\n",
    "sb.set_context('notebook',        # Варианты: paper, talk, poster\n",
    "               font_scale=1.4)    # См. https://seaborn.pydata.org/tutorial/aesthetics.html\n",
    "\n",
    "sb.lineplot(x, y)\n"
   ]
  }
 ],
 "metadata": {
  "kernelspec": {
   "display_name": "Python 3",
   "language": "python",
   "name": "python3"
  },
  "language_info": {
   "codemirror_mode": {
    "name": "ipython",
    "version": 3
   },
   "file_extension": ".py",
   "mimetype": "text/x-python",
   "name": "python",
   "nbconvert_exporter": "python",
   "pygments_lexer": "ipython3",
   "version": "3.6.8"
  }
 },
 "nbformat": 4,
 "nbformat_minor": 1
}
